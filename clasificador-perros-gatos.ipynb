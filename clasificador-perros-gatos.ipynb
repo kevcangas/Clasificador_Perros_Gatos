{
 "cells": [
  {
   "cell_type": "code",
   "execution_count": 1,
   "id": "8db97dc4",
   "metadata": {
    "_cell_guid": "b1076dfc-b9ad-4769-8c92-a6c4dae69d19",
    "_uuid": "8f2839f25d086af736a60e9eeb907d3b93b6e0e5",
    "execution": {
     "iopub.execute_input": "2023-02-12T20:32:08.218948Z",
     "iopub.status.busy": "2023-02-12T20:32:08.218493Z",
     "iopub.status.idle": "2023-02-12T20:32:13.190706Z",
     "shell.execute_reply": "2023-02-12T20:32:13.189715Z"
    },
    "papermill": {
     "duration": 4.980019,
     "end_time": "2023-02-12T20:32:13.193173",
     "exception": false,
     "start_time": "2023-02-12T20:32:08.213154",
     "status": "completed"
    },
    "tags": []
   },
   "outputs": [],
   "source": [
    "import tensorflow as tf \n",
    "from tensorflow.keras.layers import Conv2D, MaxPooling2D, Dropout, Flatten, Dense\n",
    "from tensorflow.keras.preprocessing.image import ImageDataGenerator\n",
    "from tensorflow.keras.callbacks import ModelCheckpoint, EarlyStopping\n",
    "from  tensorflow.keras import models, optimizers, regularizers"
   ]
  },
  {
   "cell_type": "code",
   "execution_count": 2,
   "id": "c3fb4dd7",
   "metadata": {
    "execution": {
     "iopub.execute_input": "2023-02-12T20:32:13.202000Z",
     "iopub.status.busy": "2023-02-12T20:32:13.200345Z",
     "iopub.status.idle": "2023-02-12T20:32:13.206131Z",
     "shell.execute_reply": "2023-02-12T20:32:13.205328Z"
    },
    "papermill": {
     "duration": 0.011878,
     "end_time": "2023-02-12T20:32:13.208308",
     "exception": false,
     "start_time": "2023-02-12T20:32:13.196430",
     "status": "completed"
    },
    "tags": []
   },
   "outputs": [],
   "source": [
    "train_dir = '/kaggle/input/cnn-data-sources/cats_and_dogs/train'\n",
    "test_dir = '/kaggle/input/cnn-data-sources/cats_and_dogs/test'\n",
    "validation_dir = '/kaggle/input/cnn-data-sources/cats_and_dogs/validation'"
   ]
  },
  {
   "cell_type": "markdown",
   "id": "74ee6294",
   "metadata": {
    "papermill": {
     "duration": 0.002828,
     "end_time": "2023-02-12T20:32:13.213983",
     "exception": false,
     "start_time": "2023-02-12T20:32:13.211155",
     "status": "completed"
    },
    "tags": []
   },
   "source": [
    "## Tratamiento de Imagenes (Data Augmentation)"
   ]
  },
  {
   "cell_type": "code",
   "execution_count": 3,
   "id": "0a28386c",
   "metadata": {
    "execution": {
     "iopub.execute_input": "2023-02-12T20:32:13.221580Z",
     "iopub.status.busy": "2023-02-12T20:32:13.221305Z",
     "iopub.status.idle": "2023-02-12T20:32:13.227033Z",
     "shell.execute_reply": "2023-02-12T20:32:13.225989Z"
    },
    "papermill": {
     "duration": 0.01215,
     "end_time": "2023-02-12T20:32:13.229229",
     "exception": false,
     "start_time": "2023-02-12T20:32:13.217079",
     "status": "completed"
    },
    "tags": []
   },
   "outputs": [],
   "source": [
    "train_generator = ImageDataGenerator(\n",
    "    rescale = 1/255,\n",
    "    rotation_range = 40,\n",
    "    width_shift_range=0.2,\n",
    "    height_shift_range=0.2,\n",
    "    shear_range=0.2,\n",
    "    zoom_range=0.2,\n",
    "    horizontal_flip=True\n",
    ")\n",
    "\n",
    "validation_generator = ImageDataGenerator(\n",
    "    rescale = 1/255\n",
    ")\n",
    "\n",
    "test_generator = ImageDataGenerator(\n",
    "    rescale = 1/255\n",
    ")"
   ]
  },
  {
   "cell_type": "code",
   "execution_count": 4,
   "id": "1e5534aa",
   "metadata": {
    "execution": {
     "iopub.execute_input": "2023-02-12T20:32:13.235773Z",
     "iopub.status.busy": "2023-02-12T20:32:13.235516Z",
     "iopub.status.idle": "2023-02-12T20:32:14.402376Z",
     "shell.execute_reply": "2023-02-12T20:32:14.400555Z"
    },
    "papermill": {
     "duration": 1.172745,
     "end_time": "2023-02-12T20:32:14.404706",
     "exception": false,
     "start_time": "2023-02-12T20:32:13.231961",
     "status": "completed"
    },
    "tags": []
   },
   "outputs": [
    {
     "name": "stdout",
     "output_type": "stream",
     "text": [
      "Found 2000 images belonging to 2 classes.\n",
      "Found 1000 images belonging to 2 classes.\n",
      "Found 1000 images belonging to 2 classes.\n"
     ]
    }
   ],
   "source": [
    "train_data = train_generator.flow_from_directory(\n",
    "    train_dir,\n",
    "    target_size = (150, 150),\n",
    "    batch_size = 32,\n",
    "    class_mode = \"binary\"\n",
    ")\n",
    "\n",
    "validation_data = validation_generator.flow_from_directory(\n",
    "    validation_dir,\n",
    "    target_size = (150, 150),\n",
    "    batch_size = 32,\n",
    "    class_mode = \"binary\"\n",
    ")\n",
    "\n",
    "test_data = test_generator.flow_from_directory(\n",
    "    test_dir,\n",
    "    target_size = (150, 150),\n",
    "    batch_size = 32,\n",
    "    class_mode = \"binary\"\n",
    ")"
   ]
  },
  {
   "cell_type": "markdown",
   "id": "31f28a0c",
   "metadata": {
    "papermill": {
     "duration": 0.002844,
     "end_time": "2023-02-12T20:32:14.410743",
     "exception": false,
     "start_time": "2023-02-12T20:32:14.407899",
     "status": "completed"
    },
    "tags": []
   },
   "source": [
    "## Arquitectura de la Red"
   ]
  },
  {
   "cell_type": "code",
   "execution_count": 5,
   "id": "308ce6bf",
   "metadata": {
    "execution": {
     "iopub.execute_input": "2023-02-12T20:32:14.418470Z",
     "iopub.status.busy": "2023-02-12T20:32:14.417593Z",
     "iopub.status.idle": "2023-02-12T20:32:17.732709Z",
     "shell.execute_reply": "2023-02-12T20:32:17.731696Z"
    },
    "papermill": {
     "duration": 3.321791,
     "end_time": "2023-02-12T20:32:17.735494",
     "exception": false,
     "start_time": "2023-02-12T20:32:14.413703",
     "status": "completed"
    },
    "tags": []
   },
   "outputs": [
    {
     "name": "stderr",
     "output_type": "stream",
     "text": [
      "2023-02-12 20:32:14.557921: I tensorflow/stream_executor/cuda/cuda_gpu_executor.cc:937] successful NUMA node read from SysFS had negative value (-1), but there must be at least one NUMA node, so returning NUMA node zero\n",
      "2023-02-12 20:32:14.558862: I tensorflow/stream_executor/cuda/cuda_gpu_executor.cc:937] successful NUMA node read from SysFS had negative value (-1), but there must be at least one NUMA node, so returning NUMA node zero\n",
      "2023-02-12 20:32:14.645352: I tensorflow/stream_executor/cuda/cuda_gpu_executor.cc:937] successful NUMA node read from SysFS had negative value (-1), but there must be at least one NUMA node, so returning NUMA node zero\n",
      "2023-02-12 20:32:14.646157: I tensorflow/stream_executor/cuda/cuda_gpu_executor.cc:937] successful NUMA node read from SysFS had negative value (-1), but there must be at least one NUMA node, so returning NUMA node zero\n",
      "2023-02-12 20:32:14.646886: I tensorflow/stream_executor/cuda/cuda_gpu_executor.cc:937] successful NUMA node read from SysFS had negative value (-1), but there must be at least one NUMA node, so returning NUMA node zero\n",
      "2023-02-12 20:32:14.647588: I tensorflow/stream_executor/cuda/cuda_gpu_executor.cc:937] successful NUMA node read from SysFS had negative value (-1), but there must be at least one NUMA node, so returning NUMA node zero\n",
      "2023-02-12 20:32:14.649190: I tensorflow/core/platform/cpu_feature_guard.cc:142] This TensorFlow binary is optimized with oneAPI Deep Neural Network Library (oneDNN) to use the following CPU instructions in performance-critical operations:  AVX2 AVX512F FMA\n",
      "To enable them in other operations, rebuild TensorFlow with the appropriate compiler flags.\n",
      "2023-02-12 20:32:14.901669: I tensorflow/stream_executor/cuda/cuda_gpu_executor.cc:937] successful NUMA node read from SysFS had negative value (-1), but there must be at least one NUMA node, so returning NUMA node zero\n",
      "2023-02-12 20:32:14.902528: I tensorflow/stream_executor/cuda/cuda_gpu_executor.cc:937] successful NUMA node read from SysFS had negative value (-1), but there must be at least one NUMA node, so returning NUMA node zero\n",
      "2023-02-12 20:32:14.903305: I tensorflow/stream_executor/cuda/cuda_gpu_executor.cc:937] successful NUMA node read from SysFS had negative value (-1), but there must be at least one NUMA node, so returning NUMA node zero\n",
      "2023-02-12 20:32:14.904135: I tensorflow/stream_executor/cuda/cuda_gpu_executor.cc:937] successful NUMA node read from SysFS had negative value (-1), but there must be at least one NUMA node, so returning NUMA node zero\n",
      "2023-02-12 20:32:14.904900: I tensorflow/stream_executor/cuda/cuda_gpu_executor.cc:937] successful NUMA node read from SysFS had negative value (-1), but there must be at least one NUMA node, so returning NUMA node zero\n",
      "2023-02-12 20:32:14.905575: I tensorflow/stream_executor/cuda/cuda_gpu_executor.cc:937] successful NUMA node read from SysFS had negative value (-1), but there must be at least one NUMA node, so returning NUMA node zero\n",
      "2023-02-12 20:32:17.309268: I tensorflow/stream_executor/cuda/cuda_gpu_executor.cc:937] successful NUMA node read from SysFS had negative value (-1), but there must be at least one NUMA node, so returning NUMA node zero\n",
      "2023-02-12 20:32:17.310154: I tensorflow/stream_executor/cuda/cuda_gpu_executor.cc:937] successful NUMA node read from SysFS had negative value (-1), but there must be at least one NUMA node, so returning NUMA node zero\n",
      "2023-02-12 20:32:17.310968: I tensorflow/stream_executor/cuda/cuda_gpu_executor.cc:937] successful NUMA node read from SysFS had negative value (-1), but there must be at least one NUMA node, so returning NUMA node zero\n",
      "2023-02-12 20:32:17.311680: I tensorflow/stream_executor/cuda/cuda_gpu_executor.cc:937] successful NUMA node read from SysFS had negative value (-1), but there must be at least one NUMA node, so returning NUMA node zero\n",
      "2023-02-12 20:32:17.312374: I tensorflow/stream_executor/cuda/cuda_gpu_executor.cc:937] successful NUMA node read from SysFS had negative value (-1), but there must be at least one NUMA node, so returning NUMA node zero\n",
      "2023-02-12 20:32:17.313014: I tensorflow/core/common_runtime/gpu/gpu_device.cc:1510] Created device /job:localhost/replica:0/task:0/device:GPU:0 with 13789 MB memory:  -> device: 0, name: Tesla T4, pci bus id: 0000:00:04.0, compute capability: 7.5\n",
      "2023-02-12 20:32:17.315389: I tensorflow/stream_executor/cuda/cuda_gpu_executor.cc:937] successful NUMA node read from SysFS had negative value (-1), but there must be at least one NUMA node, so returning NUMA node zero\n",
      "2023-02-12 20:32:17.316060: I tensorflow/core/common_runtime/gpu/gpu_device.cc:1510] Created device /job:localhost/replica:0/task:0/device:GPU:1 with 13789 MB memory:  -> device: 1, name: Tesla T4, pci bus id: 0000:00:05.0, compute capability: 7.5\n"
     ]
    },
    {
     "name": "stdout",
     "output_type": "stream",
     "text": [
      "Model: \"sequential\"\n",
      "_________________________________________________________________\n",
      "Layer (type)                 Output Shape              Param #   \n",
      "=================================================================\n",
      "conv2d (Conv2D)              (None, 148, 148, 32)      896       \n",
      "_________________________________________________________________\n",
      "max_pooling2d (MaxPooling2D) (None, 74, 74, 32)        0         \n",
      "_________________________________________________________________\n",
      "conv2d_1 (Conv2D)            (None, 72, 72, 64)        18496     \n",
      "_________________________________________________________________\n",
      "max_pooling2d_1 (MaxPooling2 (None, 36, 36, 64)        0         \n",
      "_________________________________________________________________\n",
      "conv2d_2 (Conv2D)            (None, 34, 34, 128)       73856     \n",
      "_________________________________________________________________\n",
      "max_pooling2d_2 (MaxPooling2 (None, 17, 17, 128)       0         \n",
      "_________________________________________________________________\n",
      "conv2d_3 (Conv2D)            (None, 15, 15, 128)       147584    \n",
      "_________________________________________________________________\n",
      "max_pooling2d_3 (MaxPooling2 (None, 7, 7, 128)         0         \n",
      "_________________________________________________________________\n",
      "flatten (Flatten)            (None, 6272)              0         \n",
      "_________________________________________________________________\n",
      "dropout (Dropout)            (None, 6272)              0         \n",
      "_________________________________________________________________\n",
      "dense (Dense)                (None, 512)               3211776   \n",
      "_________________________________________________________________\n",
      "dense_1 (Dense)              (None, 1)                 513       \n",
      "=================================================================\n",
      "Total params: 3,453,121\n",
      "Trainable params: 3,453,121\n",
      "Non-trainable params: 0\n",
      "_________________________________________________________________\n"
     ]
    }
   ],
   "source": [
    "#Red neuronal\n",
    "model = tf.keras.models.Sequential()\n",
    "\n",
    "## Extracción de Características\n",
    "model.add(Conv2D(32, (3,3), activation= 'relu', input_shape=(150,150,3)))\n",
    "model.add(MaxPooling2D((2,2)))\n",
    "\n",
    "model.add(Conv2D(64, (3,3), activation = 'relu'))\n",
    "model.add(MaxPooling2D((2,2)))\n",
    "\n",
    "model.add(Conv2D(128, (3,3), activation = 'relu'))\n",
    "model.add(MaxPooling2D((2,2)))\n",
    "\n",
    "model.add(Conv2D(128, (3,3), activation = 'relu'))\n",
    "model.add(MaxPooling2D((2,2)))\n",
    "\n",
    "model.add(Flatten())\n",
    "model.add(Dropout(0.5))\n",
    "model.add(Dense(512, activation='relu'))\n",
    "model.add(Dense(1, activation='sigmoid'))\n",
    "\n",
    "# Compilamos y estamos listos para el entrenamiento\n",
    "opt = tf.keras.optimizers.Adam()\n",
    "model.compile(loss='binary_crossentropy',optimizer=opt,metrics=['accuracy'])\n",
    "\n",
    "model.summary()"
   ]
  },
  {
   "cell_type": "markdown",
   "id": "da1c5f07",
   "metadata": {
    "papermill": {
     "duration": 0.002961,
     "end_time": "2023-02-12T20:32:17.742557",
     "exception": false,
     "start_time": "2023-02-12T20:32:17.739596",
     "status": "completed"
    },
    "tags": []
   },
   "source": [
    "## Entrenamiento del modelo"
   ]
  },
  {
   "cell_type": "code",
   "execution_count": 6,
   "id": "e082e850",
   "metadata": {
    "execution": {
     "iopub.execute_input": "2023-02-12T20:32:17.751335Z",
     "iopub.status.busy": "2023-02-12T20:32:17.749699Z",
     "iopub.status.idle": "2023-02-12T20:32:17.755433Z",
     "shell.execute_reply": "2023-02-12T20:32:17.754494Z"
    },
    "papermill": {
     "duration": 0.011735,
     "end_time": "2023-02-12T20:32:17.757429",
     "exception": false,
     "start_time": "2023-02-12T20:32:17.745694",
     "status": "completed"
    },
    "tags": []
   },
   "outputs": [],
   "source": [
    "from tensorflow.keras.callbacks import ModelCheckpoint\n",
    "\n",
    "checkpoint_path = \"/kaggle/working/model_checkpoints_complete\"\n",
    "checkpoint = ModelCheckpoint(\n",
    "    filepath = checkpoint_path,\n",
    "    frecuency = \"epoch\",\n",
    "    save_weights_only = False,\n",
    "    monitor = \"val_accuracy\",\n",
    "    save_best_only = True,\n",
    "    verbose = 1\n",
    ")"
   ]
  },
  {
   "cell_type": "code",
   "execution_count": 7,
   "id": "ce880244",
   "metadata": {
    "execution": {
     "iopub.execute_input": "2023-02-12T20:32:17.764667Z",
     "iopub.status.busy": "2023-02-12T20:32:17.764364Z",
     "iopub.status.idle": "2023-02-12T21:08:55.512415Z",
     "shell.execute_reply": "2023-02-12T21:08:55.511458Z"
    },
    "papermill": {
     "duration": 2197.75394,
     "end_time": "2023-02-12T21:08:55.514422",
     "exception": false,
     "start_time": "2023-02-12T20:32:17.760482",
     "status": "completed"
    },
    "tags": []
   },
   "outputs": [
    {
     "name": "stderr",
     "output_type": "stream",
     "text": [
      "2023-02-12 20:32:18.376688: I tensorflow/compiler/mlir/mlir_graph_optimization_pass.cc:185] None of the MLIR Optimization Passes are enabled (registered 2)\n"
     ]
    },
    {
     "name": "stdout",
     "output_type": "stream",
     "text": [
      "Epoch 1/100\n"
     ]
    },
    {
     "name": "stderr",
     "output_type": "stream",
     "text": [
      "2023-02-12 20:32:20.514731: I tensorflow/stream_executor/cuda/cuda_dnn.cc:369] Loaded cuDNN version 8005\n"
     ]
    },
    {
     "name": "stdout",
     "output_type": "stream",
     "text": [
      "62/62 [==============================] - 44s 565ms/step - loss: 0.6967 - accuracy: 0.5366 - val_loss: 0.7121 - val_accuracy: 0.5020\n",
      "\n",
      "Epoch 00001: val_accuracy improved from -inf to 0.50202, saving model to /kaggle/working/model_checkpoints_complete\n"
     ]
    },
    {
     "name": "stderr",
     "output_type": "stream",
     "text": [
      "2023-02-12 20:33:02.516549: W tensorflow/python/util/util.cc:348] Sets are not currently considered sequences, but this may change in the future, so consider avoiding using them.\n"
     ]
    },
    {
     "name": "stdout",
     "output_type": "stream",
     "text": [
      "Epoch 2/100\n",
      "62/62 [==============================] - 19s 303ms/step - loss: 0.6935 - accuracy: 0.5285 - val_loss: 0.6923 - val_accuracy: 0.5010\n",
      "\n",
      "Epoch 00002: val_accuracy did not improve from 0.50202\n",
      "Epoch 3/100\n",
      "62/62 [==============================] - 19s 310ms/step - loss: 0.6855 - accuracy: 0.5254 - val_loss: 0.6566 - val_accuracy: 0.5766\n",
      "\n",
      "Epoch 00003: val_accuracy improved from 0.50202 to 0.57661, saving model to /kaggle/working/model_checkpoints_complete\n",
      "Epoch 4/100\n",
      "62/62 [==============================] - 19s 312ms/step - loss: 0.6883 - accuracy: 0.5401 - val_loss: 0.6768 - val_accuracy: 0.5595\n",
      "\n",
      "Epoch 00004: val_accuracy did not improve from 0.57661\n",
      "Epoch 5/100\n",
      "62/62 [==============================] - 19s 304ms/step - loss: 0.6889 - accuracy: 0.5147 - val_loss: 0.6858 - val_accuracy: 0.5504\n",
      "\n",
      "Epoch 00005: val_accuracy did not improve from 0.57661\n",
      "Epoch 6/100\n",
      "62/62 [==============================] - 19s 314ms/step - loss: 0.6861 - accuracy: 0.5198 - val_loss: 0.6802 - val_accuracy: 0.5040\n",
      "\n",
      "Epoch 00006: val_accuracy did not improve from 0.57661\n",
      "Epoch 7/100\n",
      "62/62 [==============================] - 19s 312ms/step - loss: 0.6885 - accuracy: 0.5285 - val_loss: 0.6827 - val_accuracy: 0.5494\n",
      "\n",
      "Epoch 00007: val_accuracy did not improve from 0.57661\n",
      "Epoch 8/100\n",
      "62/62 [==============================] - 19s 301ms/step - loss: 0.6866 - accuracy: 0.5396 - val_loss: 0.6873 - val_accuracy: 0.5312\n",
      "\n",
      "Epoch 00008: val_accuracy did not improve from 0.57661\n",
      "Epoch 9/100\n",
      "62/62 [==============================] - 20s 317ms/step - loss: 0.6842 - accuracy: 0.5518 - val_loss: 0.6767 - val_accuracy: 0.5837\n",
      "\n",
      "Epoch 00009: val_accuracy improved from 0.57661 to 0.58367, saving model to /kaggle/working/model_checkpoints_complete\n",
      "Epoch 10/100\n",
      "62/62 [==============================] - 19s 307ms/step - loss: 0.6812 - accuracy: 0.5737 - val_loss: 0.6686 - val_accuracy: 0.6129\n",
      "\n",
      "Epoch 00010: val_accuracy improved from 0.58367 to 0.61290, saving model to /kaggle/working/model_checkpoints_complete\n",
      "Epoch 11/100\n",
      "62/62 [==============================] - 20s 317ms/step - loss: 0.6774 - accuracy: 0.5589 - val_loss: 0.6862 - val_accuracy: 0.5423\n",
      "\n",
      "Epoch 00011: val_accuracy did not improve from 0.61290\n",
      "Epoch 12/100\n",
      "62/62 [==============================] - 19s 306ms/step - loss: 0.6780 - accuracy: 0.5732 - val_loss: 0.6585 - val_accuracy: 0.6391\n",
      "\n",
      "Epoch 00012: val_accuracy improved from 0.61290 to 0.63911, saving model to /kaggle/working/model_checkpoints_complete\n",
      "Epoch 13/100\n",
      "62/62 [==============================] - 20s 316ms/step - loss: 0.6826 - accuracy: 0.5478 - val_loss: 0.6718 - val_accuracy: 0.6129\n",
      "\n",
      "Epoch 00013: val_accuracy did not improve from 0.63911\n",
      "Epoch 14/100\n",
      "62/62 [==============================] - 19s 305ms/step - loss: 0.6880 - accuracy: 0.5493 - val_loss: 0.6833 - val_accuracy: 0.5474\n",
      "\n",
      "Epoch 00014: val_accuracy did not improve from 0.63911\n",
      "Epoch 15/100\n",
      "62/62 [==============================] - 19s 312ms/step - loss: 0.6839 - accuracy: 0.5483 - val_loss: 0.6886 - val_accuracy: 0.5323\n",
      "\n",
      "Epoch 00015: val_accuracy did not improve from 0.63911\n",
      "Epoch 16/100\n",
      "62/62 [==============================] - 21s 338ms/step - loss: 0.6726 - accuracy: 0.5786 - val_loss: 0.6657 - val_accuracy: 0.6190\n",
      "\n",
      "Epoch 00016: val_accuracy did not improve from 0.63911\n",
      "Epoch 17/100\n",
      "62/62 [==============================] - 19s 308ms/step - loss: 0.6784 - accuracy: 0.5757 - val_loss: 0.6772 - val_accuracy: 0.5786\n",
      "\n",
      "Epoch 00017: val_accuracy did not improve from 0.63911\n",
      "Epoch 18/100\n",
      "62/62 [==============================] - 19s 311ms/step - loss: 0.6666 - accuracy: 0.6037 - val_loss: 0.6683 - val_accuracy: 0.5887\n",
      "\n",
      "Epoch 00018: val_accuracy did not improve from 0.63911\n",
      "Epoch 19/100\n",
      "62/62 [==============================] - 19s 300ms/step - loss: 0.6700 - accuracy: 0.5828 - val_loss: 0.6647 - val_accuracy: 0.6179\n",
      "\n",
      "Epoch 00019: val_accuracy did not improve from 0.63911\n",
      "Epoch 20/100\n",
      "62/62 [==============================] - 19s 310ms/step - loss: 0.6585 - accuracy: 0.6220 - val_loss: 0.6668 - val_accuracy: 0.5786\n",
      "\n",
      "Epoch 00020: val_accuracy did not improve from 0.63911\n",
      "Epoch 21/100\n",
      "62/62 [==============================] - 19s 301ms/step - loss: 0.6524 - accuracy: 0.6331 - val_loss: 0.6587 - val_accuracy: 0.6069\n",
      "\n",
      "Epoch 00021: val_accuracy did not improve from 0.63911\n",
      "Epoch 22/100\n",
      "62/62 [==============================] - 19s 310ms/step - loss: 0.6695 - accuracy: 0.5940 - val_loss: 0.6524 - val_accuracy: 0.6280\n",
      "\n",
      "Epoch 00022: val_accuracy did not improve from 0.63911\n",
      "Epoch 23/100\n",
      "62/62 [==============================] - 19s 314ms/step - loss: 0.6569 - accuracy: 0.6133 - val_loss: 0.6545 - val_accuracy: 0.6099\n",
      "\n",
      "Epoch 00023: val_accuracy did not improve from 0.63911\n",
      "Epoch 24/100\n",
      "62/62 [==============================] - 19s 306ms/step - loss: 0.6545 - accuracy: 0.6184 - val_loss: 0.6534 - val_accuracy: 0.6200\n",
      "\n",
      "Epoch 00024: val_accuracy did not improve from 0.63911\n",
      "Epoch 25/100\n",
      "62/62 [==============================] - 19s 312ms/step - loss: 0.6421 - accuracy: 0.6438 - val_loss: 0.6528 - val_accuracy: 0.6210\n",
      "\n",
      "Epoch 00025: val_accuracy did not improve from 0.63911\n",
      "Epoch 26/100\n",
      "62/62 [==============================] - 19s 312ms/step - loss: 0.6420 - accuracy: 0.6413 - val_loss: 0.6240 - val_accuracy: 0.6663\n",
      "\n",
      "Epoch 00026: val_accuracy improved from 0.63911 to 0.66633, saving model to /kaggle/working/model_checkpoints_complete\n",
      "Epoch 27/100\n",
      "62/62 [==============================] - 19s 301ms/step - loss: 0.6425 - accuracy: 0.6402 - val_loss: 0.6273 - val_accuracy: 0.6593\n",
      "\n",
      "Epoch 00027: val_accuracy did not improve from 0.66633\n",
      "Epoch 28/100\n",
      "62/62 [==============================] - 19s 309ms/step - loss: 0.6362 - accuracy: 0.6463 - val_loss: 0.6350 - val_accuracy: 0.6442\n",
      "\n",
      "Epoch 00028: val_accuracy did not improve from 0.66633\n",
      "Epoch 29/100\n",
      "62/62 [==============================] - 19s 305ms/step - loss: 0.6382 - accuracy: 0.6362 - val_loss: 0.6437 - val_accuracy: 0.6280\n",
      "\n",
      "Epoch 00029: val_accuracy did not improve from 0.66633\n",
      "Epoch 30/100\n",
      "62/62 [==============================] - 19s 310ms/step - loss: 0.6294 - accuracy: 0.6463 - val_loss: 0.6230 - val_accuracy: 0.6522\n",
      "\n",
      "Epoch 00030: val_accuracy did not improve from 0.66633\n",
      "Epoch 31/100\n",
      "62/62 [==============================] - 19s 307ms/step - loss: 0.6304 - accuracy: 0.6529 - val_loss: 0.6136 - val_accuracy: 0.6663\n",
      "\n",
      "Epoch 00031: val_accuracy did not improve from 0.66633\n",
      "Epoch 32/100\n",
      "62/62 [==============================] - 19s 303ms/step - loss: 0.6323 - accuracy: 0.6494 - val_loss: 0.6139 - val_accuracy: 0.6492\n",
      "\n",
      "Epoch 00032: val_accuracy did not improve from 0.66633\n",
      "Epoch 33/100\n",
      "62/62 [==============================] - 19s 311ms/step - loss: 0.6376 - accuracy: 0.6448 - val_loss: 0.6184 - val_accuracy: 0.6623\n",
      "\n",
      "Epoch 00033: val_accuracy did not improve from 0.66633\n",
      "Epoch 34/100\n",
      "62/62 [==============================] - 19s 310ms/step - loss: 0.6267 - accuracy: 0.6590 - val_loss: 0.6287 - val_accuracy: 0.6653\n",
      "\n",
      "Epoch 00034: val_accuracy did not improve from 0.66633\n",
      "Epoch 35/100\n",
      "62/62 [==============================] - 19s 301ms/step - loss: 0.6264 - accuracy: 0.6636 - val_loss: 0.6097 - val_accuracy: 0.6694\n",
      "\n",
      "Epoch 00035: val_accuracy improved from 0.66633 to 0.66935, saving model to /kaggle/working/model_checkpoints_complete\n",
      "Epoch 36/100\n",
      "62/62 [==============================] - 19s 306ms/step - loss: 0.6217 - accuracy: 0.6753 - val_loss: 0.6074 - val_accuracy: 0.6734\n",
      "\n",
      "Epoch 00036: val_accuracy improved from 0.66935 to 0.67339, saving model to /kaggle/working/model_checkpoints_complete\n",
      "Epoch 37/100\n",
      "62/62 [==============================] - 19s 305ms/step - loss: 0.6158 - accuracy: 0.6575 - val_loss: 0.6047 - val_accuracy: 0.6764\n",
      "\n",
      "Epoch 00037: val_accuracy improved from 0.67339 to 0.67641, saving model to /kaggle/working/model_checkpoints_complete\n",
      "Epoch 38/100\n",
      "62/62 [==============================] - 19s 304ms/step - loss: 0.6117 - accuracy: 0.6743 - val_loss: 0.6159 - val_accuracy: 0.6663\n",
      "\n",
      "Epoch 00038: val_accuracy did not improve from 0.67641\n",
      "Epoch 39/100\n",
      "62/62 [==============================] - 19s 315ms/step - loss: 0.6164 - accuracy: 0.6697 - val_loss: 0.6135 - val_accuracy: 0.6653\n",
      "\n",
      "Epoch 00039: val_accuracy did not improve from 0.67641\n",
      "Epoch 40/100\n",
      "62/62 [==============================] - 19s 306ms/step - loss: 0.6035 - accuracy: 0.6829 - val_loss: 0.6197 - val_accuracy: 0.6583\n",
      "\n",
      "Epoch 00040: val_accuracy did not improve from 0.67641\n",
      "Epoch 41/100\n",
      "62/62 [==============================] - 19s 306ms/step - loss: 0.6181 - accuracy: 0.6575 - val_loss: 0.6111 - val_accuracy: 0.6744\n",
      "\n",
      "Epoch 00041: val_accuracy did not improve from 0.67641\n",
      "Epoch 42/100\n",
      "62/62 [==============================] - 19s 308ms/step - loss: 0.6023 - accuracy: 0.6763 - val_loss: 0.5973 - val_accuracy: 0.6673\n",
      "\n",
      "Epoch 00042: val_accuracy did not improve from 0.67641\n",
      "Epoch 43/100\n",
      "62/62 [==============================] - 19s 299ms/step - loss: 0.6121 - accuracy: 0.6687 - val_loss: 0.5930 - val_accuracy: 0.6905\n",
      "\n",
      "Epoch 00043: val_accuracy improved from 0.67641 to 0.69052, saving model to /kaggle/working/model_checkpoints_complete\n",
      "Epoch 44/100\n",
      "62/62 [==============================] - 20s 315ms/step - loss: 0.6116 - accuracy: 0.6758 - val_loss: 0.5792 - val_accuracy: 0.7026\n",
      "\n",
      "Epoch 00044: val_accuracy improved from 0.69052 to 0.70262, saving model to /kaggle/working/model_checkpoints_complete\n",
      "Epoch 45/100\n",
      "62/62 [==============================] - 19s 305ms/step - loss: 0.5919 - accuracy: 0.6936 - val_loss: 0.5614 - val_accuracy: 0.7188\n",
      "\n",
      "Epoch 00045: val_accuracy improved from 0.70262 to 0.71875, saving model to /kaggle/working/model_checkpoints_complete\n",
      "Epoch 46/100\n",
      "62/62 [==============================] - 20s 320ms/step - loss: 0.5800 - accuracy: 0.7033 - val_loss: 0.6098 - val_accuracy: 0.6764\n",
      "\n",
      "Epoch 00046: val_accuracy did not improve from 0.71875\n",
      "Epoch 47/100\n",
      "62/62 [==============================] - 20s 316ms/step - loss: 0.5840 - accuracy: 0.6992 - val_loss: 0.5715 - val_accuracy: 0.6986\n",
      "\n",
      "Epoch 00047: val_accuracy did not improve from 0.71875\n",
      "Epoch 48/100\n",
      "62/62 [==============================] - 19s 301ms/step - loss: 0.5731 - accuracy: 0.7007 - val_loss: 0.5512 - val_accuracy: 0.7167\n",
      "\n",
      "Epoch 00048: val_accuracy did not improve from 0.71875\n",
      "Epoch 49/100\n",
      "62/62 [==============================] - 19s 314ms/step - loss: 0.5694 - accuracy: 0.6992 - val_loss: 0.5889 - val_accuracy: 0.7016\n",
      "\n",
      "Epoch 00049: val_accuracy did not improve from 0.71875\n",
      "Epoch 50/100\n",
      "62/62 [==============================] - 19s 306ms/step - loss: 0.5669 - accuracy: 0.7114 - val_loss: 0.5389 - val_accuracy: 0.7137\n",
      "\n",
      "Epoch 00050: val_accuracy did not improve from 0.71875\n",
      "Epoch 51/100\n",
      "62/62 [==============================] - 19s 297ms/step - loss: 0.5724 - accuracy: 0.7088 - val_loss: 0.5577 - val_accuracy: 0.7208\n",
      "\n",
      "Epoch 00051: val_accuracy improved from 0.71875 to 0.72077, saving model to /kaggle/working/model_checkpoints_complete\n",
      "Epoch 52/100\n",
      "62/62 [==============================] - 19s 309ms/step - loss: 0.5584 - accuracy: 0.7154 - val_loss: 0.5277 - val_accuracy: 0.7349\n",
      "\n",
      "Epoch 00052: val_accuracy improved from 0.72077 to 0.73488, saving model to /kaggle/working/model_checkpoints_complete\n",
      "Epoch 53/100\n",
      "62/62 [==============================] - 19s 306ms/step - loss: 0.5511 - accuracy: 0.7144 - val_loss: 0.5456 - val_accuracy: 0.7349\n",
      "\n",
      "Epoch 00053: val_accuracy did not improve from 0.73488\n",
      "Epoch 54/100\n",
      "62/62 [==============================] - 20s 319ms/step - loss: 0.5604 - accuracy: 0.7205 - val_loss: 0.5655 - val_accuracy: 0.7097\n",
      "\n",
      "Epoch 00054: val_accuracy did not improve from 0.73488\n",
      "Epoch 55/100\n",
      "62/62 [==============================] - 20s 319ms/step - loss: 0.5557 - accuracy: 0.7109 - val_loss: 0.5492 - val_accuracy: 0.7117\n",
      "\n",
      "Epoch 00055: val_accuracy did not improve from 0.73488\n",
      "Epoch 56/100\n",
      "62/62 [==============================] - 19s 308ms/step - loss: 0.5547 - accuracy: 0.7236 - val_loss: 0.5168 - val_accuracy: 0.7520\n",
      "\n",
      "Epoch 00056: val_accuracy improved from 0.73488 to 0.75202, saving model to /kaggle/working/model_checkpoints_complete\n",
      "Epoch 57/100\n",
      "62/62 [==============================] - 20s 322ms/step - loss: 0.5470 - accuracy: 0.7251 - val_loss: 0.5381 - val_accuracy: 0.7208\n",
      "\n",
      "Epoch 00057: val_accuracy did not improve from 0.75202\n",
      "Epoch 58/100\n",
      "62/62 [==============================] - 20s 317ms/step - loss: 0.5421 - accuracy: 0.7383 - val_loss: 0.5272 - val_accuracy: 0.7349\n",
      "\n",
      "Epoch 00058: val_accuracy did not improve from 0.75202\n",
      "Epoch 59/100\n",
      "62/62 [==============================] - 19s 305ms/step - loss: 0.5398 - accuracy: 0.7409 - val_loss: 0.5023 - val_accuracy: 0.7530\n",
      "\n",
      "Epoch 00059: val_accuracy improved from 0.75202 to 0.75302, saving model to /kaggle/working/model_checkpoints_complete\n",
      "Epoch 60/100\n",
      "62/62 [==============================] - 20s 318ms/step - loss: 0.5409 - accuracy: 0.7363 - val_loss: 0.5192 - val_accuracy: 0.7409\n",
      "\n",
      "Epoch 00060: val_accuracy did not improve from 0.75302\n",
      "Epoch 61/100\n",
      "62/62 [==============================] - 20s 318ms/step - loss: 0.5333 - accuracy: 0.7302 - val_loss: 0.5102 - val_accuracy: 0.7429\n",
      "\n",
      "Epoch 00061: val_accuracy did not improve from 0.75302\n",
      "Epoch 62/100\n",
      "62/62 [==============================] - 19s 311ms/step - loss: 0.5190 - accuracy: 0.7439 - val_loss: 0.4986 - val_accuracy: 0.7641\n",
      "\n",
      "Epoch 00062: val_accuracy improved from 0.75302 to 0.76411, saving model to /kaggle/working/model_checkpoints_complete\n",
      "Epoch 63/100\n",
      "62/62 [==============================] - 20s 320ms/step - loss: 0.5291 - accuracy: 0.7327 - val_loss: 0.5099 - val_accuracy: 0.7470\n",
      "\n",
      "Epoch 00063: val_accuracy did not improve from 0.76411\n",
      "Epoch 64/100\n",
      "62/62 [==============================] - 19s 309ms/step - loss: 0.5170 - accuracy: 0.7520 - val_loss: 0.5027 - val_accuracy: 0.7641\n",
      "\n",
      "Epoch 00064: val_accuracy did not improve from 0.76411\n",
      "Epoch 65/100\n",
      "62/62 [==============================] - 19s 312ms/step - loss: 0.5165 - accuracy: 0.7459 - val_loss: 0.5092 - val_accuracy: 0.7359\n",
      "\n",
      "Epoch 00065: val_accuracy did not improve from 0.76411\n",
      "Epoch 66/100\n",
      "62/62 [==============================] - 19s 306ms/step - loss: 0.5080 - accuracy: 0.7510 - val_loss: 0.5150 - val_accuracy: 0.7419\n",
      "\n",
      "Epoch 00066: val_accuracy did not improve from 0.76411\n",
      "Epoch 67/100\n",
      "62/62 [==============================] - 19s 309ms/step - loss: 0.5025 - accuracy: 0.7505 - val_loss: 0.4987 - val_accuracy: 0.7520\n",
      "\n",
      "Epoch 00067: val_accuracy did not improve from 0.76411\n",
      "Epoch 68/100\n",
      "62/62 [==============================] - 20s 316ms/step - loss: 0.5030 - accuracy: 0.7540 - val_loss: 0.5209 - val_accuracy: 0.7450\n",
      "\n",
      "Epoch 00068: val_accuracy did not improve from 0.76411\n",
      "Epoch 69/100\n",
      "62/62 [==============================] - 19s 309ms/step - loss: 0.4920 - accuracy: 0.7561 - val_loss: 0.5213 - val_accuracy: 0.7419\n",
      "\n",
      "Epoch 00069: val_accuracy did not improve from 0.76411\n",
      "Epoch 70/100\n",
      "62/62 [==============================] - 19s 310ms/step - loss: 0.4919 - accuracy: 0.7647 - val_loss: 0.4911 - val_accuracy: 0.7571\n",
      "\n",
      "Epoch 00070: val_accuracy did not improve from 0.76411\n",
      "Epoch 71/100\n",
      "62/62 [==============================] - 19s 312ms/step - loss: 0.4872 - accuracy: 0.7678 - val_loss: 0.4852 - val_accuracy: 0.7712\n",
      "\n",
      "Epoch 00071: val_accuracy improved from 0.76411 to 0.77117, saving model to /kaggle/working/model_checkpoints_complete\n",
      "Epoch 72/100\n",
      "62/62 [==============================] - 19s 310ms/step - loss: 0.4893 - accuracy: 0.7561 - val_loss: 0.5208 - val_accuracy: 0.7319\n",
      "\n",
      "Epoch 00072: val_accuracy did not improve from 0.77117\n",
      "Epoch 73/100\n",
      "62/62 [==============================] - 20s 322ms/step - loss: 0.4823 - accuracy: 0.7683 - val_loss: 0.5311 - val_accuracy: 0.7339\n",
      "\n",
      "Epoch 00073: val_accuracy did not improve from 0.77117\n",
      "Epoch 74/100\n",
      "62/62 [==============================] - 19s 312ms/step - loss: 0.4816 - accuracy: 0.7678 - val_loss: 0.5028 - val_accuracy: 0.7671\n",
      "\n",
      "Epoch 00074: val_accuracy did not improve from 0.77117\n",
      "Epoch 75/100\n",
      "62/62 [==============================] - 19s 308ms/step - loss: 0.4818 - accuracy: 0.7764 - val_loss: 0.4714 - val_accuracy: 0.7742\n",
      "\n",
      "Epoch 00075: val_accuracy improved from 0.77117 to 0.77419, saving model to /kaggle/working/model_checkpoints_complete\n",
      "Epoch 76/100\n",
      "62/62 [==============================] - 19s 310ms/step - loss: 0.4698 - accuracy: 0.7856 - val_loss: 0.4913 - val_accuracy: 0.7722\n",
      "\n",
      "Epoch 00076: val_accuracy did not improve from 0.77419\n",
      "Epoch 77/100\n",
      "62/62 [==============================] - 19s 306ms/step - loss: 0.4820 - accuracy: 0.7734 - val_loss: 0.4688 - val_accuracy: 0.7631\n",
      "\n",
      "Epoch 00077: val_accuracy did not improve from 0.77419\n",
      "Epoch 78/100\n",
      "62/62 [==============================] - 19s 307ms/step - loss: 0.4763 - accuracy: 0.7729 - val_loss: 0.4946 - val_accuracy: 0.7702\n",
      "\n",
      "Epoch 00078: val_accuracy did not improve from 0.77419\n",
      "Epoch 79/100\n",
      "62/62 [==============================] - 20s 316ms/step - loss: 0.4422 - accuracy: 0.8003 - val_loss: 0.4712 - val_accuracy: 0.7843\n",
      "\n",
      "Epoch 00079: val_accuracy improved from 0.77419 to 0.78427, saving model to /kaggle/working/model_checkpoints_complete\n",
      "Epoch 80/100\n",
      "62/62 [==============================] - 20s 316ms/step - loss: 0.4385 - accuracy: 0.7896 - val_loss: 0.4601 - val_accuracy: 0.7903\n",
      "\n",
      "Epoch 00080: val_accuracy improved from 0.78427 to 0.79032, saving model to /kaggle/working/model_checkpoints_complete\n",
      "Epoch 81/100\n",
      "62/62 [==============================] - 20s 319ms/step - loss: 0.4456 - accuracy: 0.7876 - val_loss: 0.5420 - val_accuracy: 0.7450\n",
      "\n",
      "Epoch 00081: val_accuracy did not improve from 0.79032\n",
      "Epoch 82/100\n",
      "62/62 [==============================] - 20s 325ms/step - loss: 0.4436 - accuracy: 0.7891 - val_loss: 0.4508 - val_accuracy: 0.7873\n",
      "\n",
      "Epoch 00082: val_accuracy did not improve from 0.79032\n",
      "Epoch 83/100\n",
      "62/62 [==============================] - 20s 320ms/step - loss: 0.4431 - accuracy: 0.7962 - val_loss: 0.4280 - val_accuracy: 0.7954\n",
      "\n",
      "Epoch 00083: val_accuracy improved from 0.79032 to 0.79536, saving model to /kaggle/working/model_checkpoints_complete\n",
      "Epoch 84/100\n",
      "62/62 [==============================] - 20s 321ms/step - loss: 0.4414 - accuracy: 0.7957 - val_loss: 0.4443 - val_accuracy: 0.8014\n",
      "\n",
      "Epoch 00084: val_accuracy improved from 0.79536 to 0.80141, saving model to /kaggle/working/model_checkpoints_complete\n",
      "Epoch 85/100\n",
      "62/62 [==============================] - 20s 317ms/step - loss: 0.4587 - accuracy: 0.7861 - val_loss: 0.4711 - val_accuracy: 0.7802\n",
      "\n",
      "Epoch 00085: val_accuracy did not improve from 0.80141\n",
      "Epoch 86/100\n",
      "62/62 [==============================] - 19s 314ms/step - loss: 0.4248 - accuracy: 0.8084 - val_loss: 0.5558 - val_accuracy: 0.7369\n",
      "\n",
      "Epoch 00086: val_accuracy did not improve from 0.80141\n",
      "Epoch 87/100\n",
      "62/62 [==============================] - 20s 321ms/step - loss: 0.4357 - accuracy: 0.8018 - val_loss: 0.4410 - val_accuracy: 0.7903\n",
      "\n",
      "Epoch 00087: val_accuracy did not improve from 0.80141\n",
      "Epoch 88/100\n",
      "62/62 [==============================] - 20s 318ms/step - loss: 0.4211 - accuracy: 0.8105 - val_loss: 0.4655 - val_accuracy: 0.7913\n",
      "\n",
      "Epoch 00088: val_accuracy did not improve from 0.80141\n",
      "Epoch 89/100\n",
      "62/62 [==============================] - 20s 326ms/step - loss: 0.4200 - accuracy: 0.8074 - val_loss: 0.4781 - val_accuracy: 0.7843\n",
      "\n",
      "Epoch 00089: val_accuracy did not improve from 0.80141\n",
      "Epoch 90/100\n",
      "62/62 [==============================] - 20s 315ms/step - loss: 0.4410 - accuracy: 0.7988 - val_loss: 0.4534 - val_accuracy: 0.7913\n",
      "\n",
      "Epoch 00090: val_accuracy did not improve from 0.80141\n",
      "Epoch 91/100\n",
      "62/62 [==============================] - 20s 322ms/step - loss: 0.4102 - accuracy: 0.8166 - val_loss: 0.4715 - val_accuracy: 0.7913\n",
      "\n",
      "Epoch 00091: val_accuracy did not improve from 0.80141\n",
      "Epoch 92/100\n",
      "62/62 [==============================] - 20s 330ms/step - loss: 0.4072 - accuracy: 0.8110 - val_loss: 0.4380 - val_accuracy: 0.8034\n",
      "\n",
      "Epoch 00092: val_accuracy improved from 0.80141 to 0.80343, saving model to /kaggle/working/model_checkpoints_complete\n",
      "Epoch 93/100\n",
      "62/62 [==============================] - 20s 320ms/step - loss: 0.4017 - accuracy: 0.8196 - val_loss: 0.5204 - val_accuracy: 0.7581\n",
      "\n",
      "Epoch 00093: val_accuracy did not improve from 0.80343\n",
      "Epoch 94/100\n",
      "62/62 [==============================] - 19s 309ms/step - loss: 0.4100 - accuracy: 0.8069 - val_loss: 0.4240 - val_accuracy: 0.8024\n",
      "\n",
      "Epoch 00094: val_accuracy did not improve from 0.80343\n",
      "Epoch 95/100\n",
      "62/62 [==============================] - 20s 317ms/step - loss: 0.4079 - accuracy: 0.8135 - val_loss: 0.4350 - val_accuracy: 0.8075\n",
      "\n",
      "Epoch 00095: val_accuracy improved from 0.80343 to 0.80746, saving model to /kaggle/working/model_checkpoints_complete\n",
      "Epoch 96/100\n",
      "62/62 [==============================] - 20s 320ms/step - loss: 0.3935 - accuracy: 0.8206 - val_loss: 0.4308 - val_accuracy: 0.8125\n",
      "\n",
      "Epoch 00096: val_accuracy improved from 0.80746 to 0.81250, saving model to /kaggle/working/model_checkpoints_complete\n",
      "Epoch 97/100\n",
      "62/62 [==============================] - 19s 304ms/step - loss: 0.4149 - accuracy: 0.8074 - val_loss: 0.4398 - val_accuracy: 0.8034\n",
      "\n",
      "Epoch 00097: val_accuracy did not improve from 0.81250\n",
      "Epoch 98/100\n",
      "62/62 [==============================] - 19s 311ms/step - loss: 0.3872 - accuracy: 0.8306 - val_loss: 0.4483 - val_accuracy: 0.8095\n",
      "\n",
      "Epoch 00098: val_accuracy did not improve from 0.81250\n",
      "Epoch 99/100\n",
      "62/62 [==============================] - 20s 316ms/step - loss: 0.3956 - accuracy: 0.8201 - val_loss: 0.4477 - val_accuracy: 0.8065\n",
      "\n",
      "Epoch 00099: val_accuracy did not improve from 0.81250\n",
      "Epoch 100/100\n",
      "62/62 [==============================] - 19s 312ms/step - loss: 0.3856 - accuracy: 0.8389 - val_loss: 0.4629 - val_accuracy: 0.8024\n",
      "\n",
      "Epoch 00100: val_accuracy did not improve from 0.81250\n"
     ]
    }
   ],
   "source": [
    "history = model.fit(\n",
    "    train_data,\n",
    "    steps_per_epoch=2000//32,\n",
    "    epochs=100,\n",
    "    validation_data=validation_data,\n",
    "    validation_steps= 1000//32,\n",
    "    callbacks=[checkpoint]\n",
    ")"
   ]
  },
  {
   "cell_type": "code",
   "execution_count": 8,
   "id": "135b8b79",
   "metadata": {
    "execution": {
     "iopub.execute_input": "2023-02-12T21:08:56.238683Z",
     "iopub.status.busy": "2023-02-12T21:08:56.238291Z",
     "iopub.status.idle": "2023-02-12T21:08:56.390624Z",
     "shell.execute_reply": "2023-02-12T21:08:56.388515Z"
    },
    "papermill": {
     "duration": 0.498301,
     "end_time": "2023-02-12T21:08:56.392749",
     "exception": false,
     "start_time": "2023-02-12T21:08:55.894448",
     "status": "completed"
    },
    "tags": []
   },
   "outputs": [
    {
     "name": "stderr",
     "output_type": "stream",
     "text": [
      "2023-02-12 21:08:56.240181: W tensorflow/core/util/tensor_slice_reader.cc:95] Could not open /kaggle/working/model_checkpoints_complete: Failed precondition: /kaggle/working/model_checkpoints_complete; Is a directory: perhaps your file is in a different file format and you need to use a different restore operator?\n"
     ]
    }
   ],
   "source": [
    "model.load_weights(checkpoint_path)\n",
    "model.save(\"modelF_PG.h5\")"
   ]
  },
  {
   "cell_type": "code",
   "execution_count": 9,
   "id": "f1e2576d",
   "metadata": {
    "execution": {
     "iopub.execute_input": "2023-02-12T21:08:57.054665Z",
     "iopub.status.busy": "2023-02-12T21:08:57.054301Z",
     "iopub.status.idle": "2023-02-12T21:09:06.548261Z",
     "shell.execute_reply": "2023-02-12T21:09:06.547027Z"
    },
    "papermill": {
     "duration": 9.826971,
     "end_time": "2023-02-12T21:09:06.550526",
     "exception": false,
     "start_time": "2023-02-12T21:08:56.723555",
     "status": "completed"
    },
    "tags": []
   },
   "outputs": [
    {
     "name": "stdout",
     "output_type": "stream",
     "text": [
      "32/32 [==============================] - 9s 291ms/step - loss: 0.4570 - accuracy: 0.7940\n"
     ]
    },
    {
     "data": {
      "text/plain": [
       "[0.4569726288318634, 0.7940000295639038]"
      ]
     },
     "execution_count": 9,
     "metadata": {},
     "output_type": "execute_result"
    }
   ],
   "source": [
    "model.evaluate(test_data)"
   ]
  }
 ],
 "metadata": {
  "kernelspec": {
   "display_name": "Python 3",
   "language": "python",
   "name": "python3"
  },
  "language_info": {
   "codemirror_mode": {
    "name": "ipython",
    "version": 3
   },
   "file_extension": ".py",
   "mimetype": "text/x-python",
   "name": "python",
   "nbconvert_exporter": "python",
   "pygments_lexer": "ipython3",
   "version": "3.7.12"
  },
  "papermill": {
   "default_parameters": {},
   "duration": 2229.264975,
   "end_time": "2023-02-12T21:09:10.191486",
   "environment_variables": {},
   "exception": null,
   "input_path": "__notebook__.ipynb",
   "output_path": "__notebook__.ipynb",
   "parameters": {},
   "start_time": "2023-02-12T20:32:00.926511",
   "version": "2.3.4"
  }
 },
 "nbformat": 4,
 "nbformat_minor": 5
}
